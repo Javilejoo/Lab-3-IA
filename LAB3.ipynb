{
 "cells": [
  {
   "cell_type": "markdown",
   "id": "e2f1dac9-1486-4a6a-b622-e37a6ef3ae58",
   "metadata": {},
   "source": [
    "<h1>Ejercicios Prácticos</h1>\n",
    "<h1>Task 2.1 - Gradiente Descendiente Estocástico</h1>\n",
    "<p>Implemente el descenso de gradiente estocástico, el descenso de gradiente y el descenso de gradiente por mini batches para una función polinómica de grado 3. Luego, grafique la función aproximada por cada uno de los métodos solicitados y la distribución real de puntos. Para esto considere que:\n",
    "El polinomio que debe usar es 2 * x**3 - 3 * x**2 + 5 * x + 3\n",
    "Considere el uso de np.polyval\n",
    "Considere el uso de np.polyder\n",
    "Compare el tiempo de ejecución de cada uno de los métodos solicitados. De esto, mencione cuál método fue más rápido y por qué.\n",
    "Compare el fitness de cada método solicitado (recuerde hacer una evaluación numérica y no sólo visual). De esto mencione cuál método lo hizo mejor y por qué\n",
    " </p>\n",
    "\n",
    "\n"
   ]
  },
  {
   "cell_type": "code",
   "execution_count": null,
   "id": "ee66c936-c767-44e3-8cb4-b91a9c2d1c00",
   "metadata": {},
   "outputs": [],
   "source": []
  }
 ],
 "metadata": {
  "kernelspec": {
   "display_name": "Python 3 (ipykernel)",
   "language": "python",
   "name": "python3"
  },
  "language_info": {
   "codemirror_mode": {
    "name": "ipython",
    "version": 3
   },
   "file_extension": ".py",
   "mimetype": "text/x-python",
   "name": "python",
   "nbconvert_exporter": "python",
   "pygments_lexer": "ipython3",
   "version": "3.12.1"
  }
 },
 "nbformat": 4,
 "nbformat_minor": 5
}
